{
  "cells": [
    {
      "cell_type": "code",
      "execution_count": 70,
      "metadata": {
        "id": "HO9jyx4n3riR"
      },
      "outputs": [],
      "source": [
        "import keras\n",
        "import numpy as np\n",
        "from sklearn import datasets\n",
        "from keras.models import Sequential\n",
        "from keras.layers import Dense"
      ]
    },
    {
      "cell_type": "code",
      "execution_count": 71,
      "metadata": {
        "id": "NAwdD79j31LZ"
      },
      "outputs": [],
      "source": [
        "data = np.array([[0.1,0.3,0.4],[0.2,0.5,0.1],[0.2,0.3,0.4]])"
      ]
    },
    {
      "cell_type": "code",
      "execution_count": 72,
      "metadata": {
        "colab": {
          "base_uri": "https://localhost:8080/"
        },
        "id": "dARSvs354UwB",
        "outputId": "3653252f-a06c-4b52-a67f-ac86ec8cf2da"
      },
      "outputs": [
        {
          "data": {
            "text/plain": [
              "array([[0.1, 0.3, 0.4],\n",
              "       [0.2, 0.5, 0.1],\n",
              "       [0.2, 0.3, 0.4]])"
            ]
          },
          "execution_count": 72,
          "metadata": {},
          "output_type": "execute_result"
        }
      ],
      "source": [
        "data"
      ]
    },
    {
      "cell_type": "code",
      "execution_count": 73,
      "metadata": {
        "id": "kkzHTL4c8mwy"
      },
      "outputs": [],
      "source": [
        "#y = keras.utils.to_categorical(y)\n",
        "#y"
      ]
    },
    {
      "cell_type": "code",
      "execution_count": 74,
      "metadata": {
        "id": "bk6sYWvO4dgK"
      },
      "outputs": [],
      "source": [
        "modeloRed = Sequential()"
      ]
    },
    {
      "cell_type": "code",
      "execution_count": 75,
      "metadata": {
        "id": "djZb8Dgv4fMY"
      },
      "outputs": [],
      "source": [
        "\n",
        "modeloRed.add(Dense(4, activation='sigmoid', input_dim=3, weights=[np.array([[0.1, 0.2, 0.1, 0.4], [0.3, 0.1,-0.2, -0.5],[0.1, -0.8,0.3, 0.1]]), np.array([0,0,0,0])]))\n",
        "modeloRed.add(Dense(1, activation='sigmoid', weights=[np.array([[0.1], [0.1],[-0.2],[0.1]]), np.array([0])]))\n",
        "\n"
      ]
    },
    {
      "cell_type": "code",
      "execution_count": 76,
      "metadata": {
        "id": "lNdNIUfR8fmD"
      },
      "outputs": [],
      "source": [
        "modeloRed.compile(loss = \"binary_crossentropy\" ,optimizer='adam',metrics=['accuracy'])\n"
      ]
    },
    {
      "cell_type": "code",
      "execution_count": 81,
      "metadata": {},
      "outputs": [
        {
          "name": "stdout",
          "output_type": "stream",
          "text": [
            "1/1 [==============================] - 0s 228ms/step\n"
          ]
        },
        {
          "data": {
            "text/plain": [
              "array([[0.51038283],\n",
              "       [0.51330835],\n",
              "       [0.5106928 ]], dtype=float32)"
            ]
          },
          "execution_count": 81,
          "metadata": {},
          "output_type": "execute_result"
        }
      ],
      "source": [
        "modeloRed.predict(data)"
      ]
    }
  ],
  "metadata": {
    "colab": {
      "provenance": []
    },
    "kernelspec": {
      "display_name": "Python 3",
      "name": "python3"
    },
    "language_info": {
      "codemirror_mode": {
        "name": "ipython",
        "version": 3
      },
      "file_extension": ".py",
      "mimetype": "text/x-python",
      "name": "python",
      "nbconvert_exporter": "python",
      "pygments_lexer": "ipython3",
      "version": "3.9.1"
    }
  },
  "nbformat": 4,
  "nbformat_minor": 0
}
